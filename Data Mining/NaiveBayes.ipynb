{
 "cells": [
  {
   "cell_type": "code",
   "execution_count": 1,
   "metadata": {},
   "outputs": [],
   "source": [
    "class NaiveBayes:\n",
    "    def __init__(self, dataset, attr):\n",
    "        self.dataset = dataset\n",
    "        self.attr = attr\n",
    "        self.classGroups = self.dataset.groupby('class').size()\n",
    "        self.nClass = self.dataset['class'].unique()\n",
    "        self.nProb = {}\n",
    "        self.d = 0\n",
    "        for attr in self.attr:\n",
    "            self.d += len(self.dataset[attr].unique())\n",
    "            \n",
    "    def calcProb(self, column, name, className):\n",
    "        if (name, className) in self.nProb:\n",
    "            return self.nProb[(name,className)]\n",
    "        group = self.dataset.groupby(['class', column]).size()\n",
    "        try:\n",
    "            x = (float(group[className][name])+1) / (float(self.classGroups[className]) + self.d)\n",
    "        except:\n",
    "            x = 1/(float(self.classGroups[className]) + self.d)\n",
    "        self.nProb[(name, className)] = x\n",
    "        return x\n",
    "    \n",
    "    def createDict(self, name):\n",
    "        if name in self.nProb:\n",
    "            return self.nProb[name]\n",
    "        x = float(self.classGroups[name]) / float(len(self.dataset))\n",
    "        self.nProb[name] = x\n",
    "        return x\n",
    "    \n",
    "    def test(self, row):\n",
    "        maxPP = 0\n",
    "        res = None\n",
    "        for name in self.nClass:\n",
    "            tmp = self.createDict(name)\n",
    "            for attr in self.attr:\n",
    "                tmp *= self.calcProb(attr, row[attr], name)\n",
    "            if tmp > maxPP:\n",
    "                maxPP = tmp\n",
    "                res = name\n",
    "        return res\n",
    "                "
   ]
  },
  {
   "cell_type": "code",
   "execution_count": 3,
   "metadata": {},
   "outputs": [
    {
     "name": "stdout",
     "output_type": "stream",
     "text": [
      "1.Accuracy: 66.63706335109532\n",
      "2.Accuracy: 24.40793368857312\n"
     ]
    },
    {
     "ename": "KeyboardInterrupt",
     "evalue": "",
     "output_type": "error",
     "traceback": [
      "\u001b[1;31m---------------------------------------------------------------------------\u001b[0m",
      "\u001b[1;31mKeyboardInterrupt\u001b[0m                         Traceback (most recent call last)",
      "\u001b[1;32m<ipython-input-3-99a95762ba43>\u001b[0m in \u001b[0;36m<module>\u001b[1;34m()\u001b[0m\n\u001b[0;32m     43\u001b[0m     \u001b[1;32mfor\u001b[0m \u001b[0mindex\u001b[0m\u001b[1;33m,\u001b[0m \u001b[0mrow\u001b[0m \u001b[1;32min\u001b[0m \u001b[0mtestSet\u001b[0m\u001b[1;33m.\u001b[0m\u001b[0miterrows\u001b[0m\u001b[1;33m(\u001b[0m\u001b[1;33m)\u001b[0m\u001b[1;33m:\u001b[0m\u001b[1;33m\u001b[0m\u001b[0m\n\u001b[0;32m     44\u001b[0m         \u001b[0mtotal\u001b[0m \u001b[1;33m+=\u001b[0m \u001b[1;36m1\u001b[0m\u001b[1;33m\u001b[0m\u001b[0m\n\u001b[1;32m---> 45\u001b[1;33m         \u001b[1;32mif\u001b[0m \u001b[0mtree\u001b[0m\u001b[1;33m.\u001b[0m\u001b[0mtest\u001b[0m\u001b[1;33m(\u001b[0m\u001b[0mrow\u001b[0m\u001b[1;33m)\u001b[0m \u001b[1;33m==\u001b[0m \u001b[0mrow\u001b[0m\u001b[1;33m[\u001b[0m\u001b[1;34m'class'\u001b[0m\u001b[1;33m]\u001b[0m\u001b[1;33m:\u001b[0m\u001b[1;33m\u001b[0m\u001b[0m\n\u001b[0m\u001b[0;32m     46\u001b[0m             \u001b[0mvalid\u001b[0m \u001b[1;33m+=\u001b[0m \u001b[1;36m1\u001b[0m\u001b[1;33m\u001b[0m\u001b[0m\n\u001b[0;32m     47\u001b[0m         \u001b[1;32melse\u001b[0m\u001b[1;33m:\u001b[0m\u001b[1;33m\u001b[0m\u001b[0m\n",
      "\u001b[1;32m<ipython-input-1-e37bf86e491b>\u001b[0m in \u001b[0;36mtest\u001b[1;34m(self, row)\u001b[0m\n\u001b[0;32m     34\u001b[0m             \u001b[0mtmp\u001b[0m \u001b[1;33m=\u001b[0m \u001b[0mself\u001b[0m\u001b[1;33m.\u001b[0m\u001b[0mcreateDict\u001b[0m\u001b[1;33m(\u001b[0m\u001b[0mname\u001b[0m\u001b[1;33m)\u001b[0m\u001b[1;33m\u001b[0m\u001b[0m\n\u001b[0;32m     35\u001b[0m             \u001b[1;32mfor\u001b[0m \u001b[0mattr\u001b[0m \u001b[1;32min\u001b[0m \u001b[0mself\u001b[0m\u001b[1;33m.\u001b[0m\u001b[0mattr\u001b[0m\u001b[1;33m:\u001b[0m\u001b[1;33m\u001b[0m\u001b[0m\n\u001b[1;32m---> 36\u001b[1;33m                 \u001b[0mtmp\u001b[0m \u001b[1;33m*=\u001b[0m \u001b[0mself\u001b[0m\u001b[1;33m.\u001b[0m\u001b[0mcalcProb\u001b[0m\u001b[1;33m(\u001b[0m\u001b[0mattr\u001b[0m\u001b[1;33m,\u001b[0m \u001b[0mrow\u001b[0m\u001b[1;33m[\u001b[0m\u001b[0mattr\u001b[0m\u001b[1;33m]\u001b[0m\u001b[1;33m,\u001b[0m \u001b[0mname\u001b[0m\u001b[1;33m)\u001b[0m\u001b[1;33m\u001b[0m\u001b[0m\n\u001b[0m\u001b[0;32m     37\u001b[0m             \u001b[1;32mif\u001b[0m \u001b[0mtmp\u001b[0m \u001b[1;33m>\u001b[0m \u001b[0mmaxPP\u001b[0m\u001b[1;33m:\u001b[0m\u001b[1;33m\u001b[0m\u001b[0m\n\u001b[0;32m     38\u001b[0m                 \u001b[0mmaxPP\u001b[0m \u001b[1;33m=\u001b[0m \u001b[0mtmp\u001b[0m\u001b[1;33m\u001b[0m\u001b[0m\n",
      "\u001b[1;32m~\\Anaconda3\\lib\\site-packages\\pandas\\core\\series.py\u001b[0m in \u001b[0;36m__getitem__\u001b[1;34m(self, key)\u001b[0m\n\u001b[0;32m    766\u001b[0m             \u001b[0mresult\u001b[0m \u001b[1;33m=\u001b[0m \u001b[0mself\u001b[0m\u001b[1;33m.\u001b[0m\u001b[0mindex\u001b[0m\u001b[1;33m.\u001b[0m\u001b[0mget_value\u001b[0m\u001b[1;33m(\u001b[0m\u001b[0mself\u001b[0m\u001b[1;33m,\u001b[0m \u001b[0mkey\u001b[0m\u001b[1;33m)\u001b[0m\u001b[1;33m\u001b[0m\u001b[0m\n\u001b[0;32m    767\u001b[0m \u001b[1;33m\u001b[0m\u001b[0m\n\u001b[1;32m--> 768\u001b[1;33m             \u001b[1;32mif\u001b[0m \u001b[1;32mnot\u001b[0m \u001b[0mis_scalar\u001b[0m\u001b[1;33m(\u001b[0m\u001b[0mresult\u001b[0m\u001b[1;33m)\u001b[0m\u001b[1;33m:\u001b[0m\u001b[1;33m\u001b[0m\u001b[0m\n\u001b[0m\u001b[0;32m    769\u001b[0m                 \u001b[1;32mif\u001b[0m \u001b[0mis_list_like\u001b[0m\u001b[1;33m(\u001b[0m\u001b[0mresult\u001b[0m\u001b[1;33m)\u001b[0m \u001b[1;32mand\u001b[0m \u001b[1;32mnot\u001b[0m \u001b[0misinstance\u001b[0m\u001b[1;33m(\u001b[0m\u001b[0mresult\u001b[0m\u001b[1;33m,\u001b[0m \u001b[0mSeries\u001b[0m\u001b[1;33m)\u001b[0m\u001b[1;33m:\u001b[0m\u001b[1;33m\u001b[0m\u001b[0m\n\u001b[0;32m    770\u001b[0m \u001b[1;33m\u001b[0m\u001b[0m\n",
      "\u001b[1;31mKeyboardInterrupt\u001b[0m: "
     ]
    }
   ],
   "source": [
    "import pandas\n",
    "from sklearn.model_selection import KFold\n",
    "import random,time\n",
    "\n",
    "random.seed(time.time())\n",
    "\n",
    "car = \"car.txt\"\n",
    "car_names = ['buying','maint','doors','persons','lug_boot','safety','class']\n",
    "\n",
    "chess = \"kr-vs-kp.data.txt\"\n",
    "chess_names = ['bkblk', 'bknwy', 'bkon8', 'bkona', 'bkspr', 'bkxbq', 'bkxcr', 'bkxwp', 'blxwp', 'bxqsq', 'cntxt', 'dsopp', 'dwipd', 'hdchk', 'katri', 'mulch', 'qxmsq', 'r2ar8', 'reskd', 'reskr', 'rimmx', 'rkxwp', 'rxmsq', 'simpl', 'skach', 'skewr', 'skrxp', 'spcop', 'stlmt', 'thrsk', 'wkcti', 'wkna8', 'wknck', 'wkovl', 'wkpos', 'wtoeg', 'class']\n",
    "\n",
    "connect = \"connect-4.txt\"\n",
    "connect_names = ['a1','a2','a3','a4','a5','a6','b1','b2','b3','b4','b5','b6','c1','c2','c3','c4','c5','c6','d1','d2','d3','d4','d5','d6','e1','e2','e3','e4','e5','e6','f1','f2','f3','f4','f5','f6','g1','g2','g3','g4','g5','g6','class']\n",
    "\n",
    "mushroom = \"agaricus-lepiota.txt\"\n",
    "mushroom_names = ['class','cap-shape','cap-surface','cap-color','bruises?','odor','gill-attachment','gill-spacing','gill-size','gill-color','stalk-shape','stalk-root','stalk-surface-above-ring','stalk-surface-below-ring','stalk-color-above-ring ','stalk-color-below-ring ','veil-type','veil-color','ring-number','ring-type','spore-print-color','population','habitat']\n",
    "\n",
    "nursery = \"nursery.txt\"\n",
    "nursery_names = ['parents','has_nurs','form','children','housing','finance','social','health','class']\n",
    "\n",
    "abalone = \"abalone.txt\"\n",
    "abalone_names = ['class','Length','Diameter','Height','Whole weight','Shucked weight','Viscera weight','Shell weight','Rings']\n",
    "\n",
    "balance = \"balance.txt\"\n",
    "balance_names = ['class','Left-Weight','Left-Distance','Right-Weight','Right-Distance']\n",
    "\n",
    "dataset = connect\n",
    "nameSet = connect_names\n",
    "\n",
    "dataset = pandas.read_csv(dataset, names = nameSet)\n",
    "# dataset = dataset.head(1000)\n",
    "dataset_split = KFold(n_splits=10,random_state=random.randint(1,100),shuffle=True)\n",
    "count = 1\n",
    "\n",
    "avg = 0\n",
    "for train, test in dataset_split.split(dataset):\n",
    "    newNames = nameSet[:]\n",
    "    newNames.remove('class')\n",
    "    tree = NaiveBayes(dataset.iloc[train], newNames)\n",
    "    testSet = dataset.iloc[test]\n",
    "    valid, invalid, total = 0,0,0\n",
    "    for index, row in testSet.iterrows():\n",
    "        total += 1\n",
    "        if tree.test(row) == row['class']:\n",
    "            valid += 1\n",
    "        else:\n",
    "            invalid += 1\n",
    "    \n",
    "    print(str(count)+\".Accuracy: \"+str((valid/float(total))*100))\n",
    "    avg += ((valid/float(total))*100)\n",
    "    count += 1\n",
    "    \n",
    "avg /= count-1\n",
    "print(\"@@@@@@@@@@@@@@@@@@@@@@@@@\\nAverage Accuracy: \"+str(avg))"
   ]
  }
 ],
 "metadata": {
  "kernelspec": {
   "display_name": "Python 3",
   "language": "python",
   "name": "python3"
  },
  "language_info": {
   "codemirror_mode": {
    "name": "ipython",
    "version": 3
   },
   "file_extension": ".py",
   "mimetype": "text/x-python",
   "name": "python",
   "nbconvert_exporter": "python",
   "pygments_lexer": "ipython3",
   "version": "3.6.5"
  }
 },
 "nbformat": 4,
 "nbformat_minor": 2
}
