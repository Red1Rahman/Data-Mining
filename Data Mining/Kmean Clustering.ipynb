{
 "cells": [
  {
   "cell_type": "code",
   "execution_count": 14,
   "metadata": {},
   "outputs": [],
   "source": [
    "import math,random\n",
    "import matplotlib.pyplot as plt\n",
    "%matplotlib inline"
   ]
  },
  {
   "cell_type": "code",
   "execution_count": 2,
   "metadata": {},
   "outputs": [],
   "source": [
    "class Point:\n",
    "    def __init__(self,x,y):\n",
    "        self.x = x\n",
    "        self.y = y\n",
    "        self.centroidIdx = None\n",
    "    def assignCentre(self,centers):\n",
    "        distances = []\n",
    "        for i in range(len(centers)):\n",
    "            dist = math.sqrt(pow((self.x-centers[i].x),2)+pow((self.y-centers[i].y),2))\n",
    "            distances.append(dist)\n",
    "        idmin = min(range(len(distances)), key=distances.__getitem__)\n",
    "        self.centroidIdx = idmin\n",
    "        self.centerPointx = centers[idmin].x\n",
    "        self.centerPointy = centers[idmin].y\n"
   ]
  },
  {
   "cell_type": "code",
   "execution_count": 3,
   "metadata": {},
   "outputs": [],
   "source": [
    "def getNewCentre(allPoints,nCluster):\n",
    "    clusterSumx = [0]*nCluster\n",
    "    clusterSumy = [0]*nCluster\n",
    "    nPoints = [0]*nCluster\n",
    "    for i in range(len(allPoints)):\n",
    "        clusterSumx[allPoints[i].centroidIdx] += allPoints[i].x\n",
    "        clusterSumy[allPoints[i].centroidIdx] += allPoints[i].y\n",
    "        nPoints[allPoints[i].centroidIdx] += 1\n",
    "    newCentre = []\n",
    "    for i in range(nCluster):\n",
    "        newCentre.append(Point(clusterSumx[i]/nPoints[i], clusterSumy[i]/nPoints[i]))\n",
    "    return newCentre\n",
    "\n",
    "def assignToCluster(allPoints, centres):\n",
    "    for i in range(len(allPoints)):\n",
    "        allPoints[i].assignCentre(centres)\n",
    "        \n",
    "def resetCentre(oldCentres, newCentres):\n",
    "    required = False\n",
    "    for i in range(len(oldCentres)):\n",
    "        if(abs(math.sqrt(pow((oldCentres[i].x-newCentres[i].x),2)+pow((oldCentres[i].y-newCentres[i].y),2)))>0.0000001):\n",
    "            required = True\n",
    "    return newCentres, required"
   ]
  },
  {
   "cell_type": "code",
   "execution_count": 41,
   "metadata": {},
   "outputs": [
    {
     "name": "stdout",
     "output_type": "stream",
     "text": [
      "Random centers:\n",
      "2.0 5.0\n",
      "6.0 4.0\n",
      "5.0 8.0\n",
      "Centres:\n",
      "1.5 3.5 Cluster no.: 1\n",
      "7.0 4.333333333333333 Cluster no.: 2\n",
      "3.6666666666666665 9.0 Cluster no.: 3\n"
     ]
    },
    {
     "data": {
      "image/png": "[encoded data removed]",
      "text/plain": [
       "<Figure size 432x288 with 1 Axes>"
      ]
     },
     "metadata": {},
     "output_type": "display_data"
    }
   ],
   "source": [
    "numberOfCentres = 3\n",
    "mx = -100000\n",
    "# lines = [line.rstrip('\\n') for line in open('input.txt')]\n",
    "lines = [line.rstrip('\\n') for line in open('inputdip.txt')]\n",
    "allPoints = []\n",
    "centres = []\n",
    "idxs = []\n",
    "colors = ['r','g','b','c','m','y','k','C7','C5','C6']\n",
    "for i in range(len(lines)):\n",
    "#     point = lines[i].split(\",\")\n",
    "    point = lines[i].split(\" \")\n",
    "    mx = max(mx, 1 + int(point[0]))\n",
    "    mx = max(mx, 1 + int(point[1]))\n",
    "    allPoints.append(Point(float(point[0]),float(point[1])))\n",
    "while(True):\n",
    "    r = random.randint(0,(len(allPoints)-1))\n",
    "    if r not in idxs:\n",
    "        idxs.append(r)\n",
    "        centres.append(allPoints[r])\n",
    "        if(len(centres)==numberOfCentres):\n",
    "            break\n",
    "cnt = 1\n",
    "print(\"Random centers:\")\n",
    "for i in range(len(centres)):\n",
    "        print(str(centres[i].x) + \" \" + str(centres[i].y))\n",
    "while True:\n",
    "    assignToCluster(allPoints, centres)\n",
    "    centres, ret = resetCentre(centres, getNewCentre(allPoints, numberOfCentres))\n",
    "#     print(\"Epoch: \" + str(cnt))\n",
    "#     print(\"Centres:\")\n",
    "#     for i in range(len(centres)):\n",
    "#         print(str(centres[i].x) + \" \" + str(centres[i].y) + \" Cluster no.: \" + str(1 + i))\n",
    "#     # print(\"Points:\")\n",
    "#     # for i in range(len(allPoints)):\n",
    "#     #     print(str(allPoints[i].x) + \" \" + str(allPoints[i].y) + \" Cluster no.: \" + str(1 + allPoints[i].centroidIdx))\n",
    "    if(not ret):\n",
    "        break\n",
    "    cnt += 1\n",
    "    \n",
    "    \n",
    "print(\"Centres:\")\n",
    "for i in range(len(centres)):\n",
    "    print(str(centres[i].x) + \" \" + str(centres[i].y) + \" Cluster no.: \" + str(1 + i))\n",
    "# print(\"Points:\")\n",
    "# for i in range(len(allPoints)):\n",
    "#     print(str(allPoints[i].x) + \" \" + str(allPoints[i].y) + \" Cluster no.: \" + str(1 + allPoints[i].centroidIdx))\n",
    "for m in range(numberOfCentres):\n",
    "    x = []\n",
    "    y = []\n",
    "    for n in range(len(allPoints)):\n",
    "        if(allPoints[n].centroidIdx == m):\n",
    "            x.append(allPoints[n].x)\n",
    "            y.append(allPoints[n].y)\n",
    "    plt.plot(x,y,colors[m]+'+')\n",
    "    plt.plot([centres[m].x], centres[m].y, colors[m]+'o')\n",
    "plt.axis([0, mx, 0, mx])\n",
    "plt.show()"
   ]
  }
 ],
 "metadata": {
  "kernelspec": {
   "display_name": "Python 3",
   "language": "python",
   "name": "python3"
  },
  "language_info": {
   "codemirror_mode": {
    "name": "ipython",
    "version": 3
   },
   "file_extension": ".py",
   "mimetype": "text/x-python",
   "name": "python",
   "nbconvert_exporter": "python",
   "pygments_lexer": "ipython3",
   "version": "3.6.5"
  }
 },
 "nbformat": 4,
 "nbformat_minor": 2
}
